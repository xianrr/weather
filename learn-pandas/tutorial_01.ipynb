{
 "cells": [
  {
   "metadata": {
    "ExecuteTime": {
     "end_time": "2025-08-14T16:02:31.514666Z",
     "start_time": "2025-08-14T16:02:31.126036Z"
    }
   },
   "cell_type": "code",
   "source": "import pandas as pd",
   "id": "dc3d819e6de0882f",
   "outputs": [],
   "execution_count": 1
  },
  {
   "metadata": {},
   "cell_type": "markdown",
   "source": "## `DataFrame`",
   "id": "d4a80c99c6cf3102"
  },
  {
   "cell_type": "code",
   "id": "initial_id",
   "metadata": {
    "collapsed": true
   },
   "source": [
    "# DataFrame\n",
    "# Pandas data table representation\n",
    "\n",
    "df = pd.DataFrame(\n",
    "     {\n",
    "         \"Name\": [\n",
    "             \"Braund, Mr. Owen Harris\",\n",
    "             \"Allen, Mr. William Henry\",\n",
    "             \"Bonnell, Miss. Elizabeth\",\n",
    "         ],\n",
    "         \"Age\": [22, 35, 58],\n",
    "         \"Sex\": [\"male\", \"male\", \"female\"],\n",
    "     }\n",
    ")\n",
    "\n",
    "df"
   ],
   "outputs": [],
   "execution_count": null
  },
  {
   "metadata": {},
   "cell_type": "markdown",
   "source": "## `Series`",
   "id": "2da03dad87c25589"
  },
  {
   "metadata": {},
   "cell_type": "code",
   "source": [
    "# Each column in a `DataFrame` is a `Series`\n",
    "\n",
    "df[\"Age\"]"
   ],
   "id": "d2607d1fd164f55e",
   "outputs": [],
   "execution_count": null
  },
  {
   "metadata": {},
   "cell_type": "code",
   "source": [
    "# You can create a Series from scratch as well\n",
    "ages = pd.Series([22, 35, 58], name=\"Age\")\n",
    "\n",
    "ages"
   ],
   "id": "f84750c40544a881",
   "outputs": [],
   "execution_count": null
  },
  {
   "metadata": {},
   "cell_type": "markdown",
   "source": "## Do something with a `DataFrame` or `Series`",
   "id": "33cde1ebbb12d1da"
  },
  {
   "metadata": {},
   "cell_type": "code",
   "source": [
    "# function\n",
    "\n",
    "df[\"Age\"].max()"
   ],
   "id": "3d253f7ab6f9d71a",
   "outputs": [],
   "execution_count": null
  },
  {
   "metadata": {},
   "cell_type": "code",
   "source": [
    "#  basic statistics of the numerical data\n",
    "\n",
    "df.describe()"
   ],
   "id": "e3868ccbf06938f4",
   "outputs": [],
   "execution_count": null
  },
  {
   "metadata": {},
   "cell_type": "markdown",
   "source": "# How to read and write tabular data?",
   "id": "727ddd03df32250f"
  },
  {
   "metadata": {},
   "cell_type": "code",
   "source": [
    "# pd.read_*()\n",
    "titanic = pd.read_csv(\"https://raw.githubusercontent.com/pandas-dev/pandas/main/doc/data/titanic.csv\")\n",
    "# print(titanic)"
   ],
   "id": "92c2a48e7c56b30e",
   "outputs": [],
   "execution_count": null
  },
  {
   "metadata": {},
   "cell_type": "code",
   "source": [
    "# 前几行\n",
    "titanic.head(8)\n",
    "\n",
    "# 末几行\n",
    "# titanic.tail(4)"
   ],
   "id": "cf7685f3012409f1",
   "outputs": [],
   "execution_count": null
  },
  {
   "metadata": {},
   "cell_type": "code",
   "source": "titanic.dtypes",
   "id": "1c527cff76654ed",
   "outputs": [],
   "execution_count": null
  },
  {
   "metadata": {},
   "cell_type": "code",
   "source": [
    "# titanic.to_excel(\"titanic.xlsx\", sheet_name=\"passengers\", index=False)\n",
    "# 如果没有指定 sheet_name 则默认为 Sheet1\n",
    "# titanic = pd.read_excel(\"titanic.xlsx\", sheet_name=\"passengers\")"
   ],
   "id": "a30ff05c08d9965b",
   "outputs": [],
   "execution_count": null
  },
  {
   "metadata": {},
   "cell_type": "code",
   "source": "titanic.info()",
   "id": "8a0b5aca3c1d0a12",
   "outputs": [],
   "execution_count": null
  },
  {
   "metadata": {
    "ExecuteTime": {
     "end_time": "2025-08-14T16:06:01.861299Z",
     "start_time": "2025-08-14T16:06:01.854505Z"
    }
   },
   "cell_type": "code",
   "source": "",
   "id": "f59a6a9b5c578505",
   "outputs": [
    {
     "name": "stdout",
     "output_type": "stream",
     "text": [
      "<class 'pandas.core.frame.DataFrame'>\n",
      "RangeIndex: 32144 entries, 0 to 32143\n",
      "Data columns (total 5 columns):\n",
      " #   Column                        Non-Null Count  Dtype  \n",
      "---  ------                        --------------  -----  \n",
      " 0   date                          32144 non-null  object \n",
      " 1   temperature_2m_mean           32144 non-null  float64\n",
      " 2   precipitation_sum             32144 non-null  float64\n",
      " 3   soil_moisture_7_to_28cm_mean  32144 non-null  float64\n",
      " 4   city                          32144 non-null  object \n",
      "dtypes: float64(3), object(2)\n",
      "memory usage: 1.2+ MB\n"
     ]
    }
   ],
   "execution_count": 7
  },
  {
   "metadata": {},
   "cell_type": "markdown",
   "source": "## Select a subset of `Dataframe`",
   "id": "a3585d8351b91790"
  },
  {
   "metadata": {
    "ExecuteTime": {
     "end_time": "2025-08-14T16:12:02.023586Z",
     "start_time": "2025-08-14T16:12:02.019481Z"
    }
   },
   "cell_type": "code",
   "source": [
    "ages = titanic[\"Age\"]\n",
    "\n",
    "print(ages.head(3))\n",
    "\n",
    "type(ages)"
   ],
   "id": "b76e3c247131d60e",
   "outputs": [
    {
     "name": "stdout",
     "output_type": "stream",
     "text": [
      "0    22.0\n",
      "1    38.0\n",
      "2    26.0\n",
      "Name: Age, dtype: float64\n"
     ]
    },
    {
     "data": {
      "text/plain": [
       "pandas.core.series.Series"
      ]
     },
     "execution_count": 11,
     "metadata": {},
     "output_type": "execute_result"
    }
   ],
   "execution_count": 11
  },
  {
   "metadata": {
    "ExecuteTime": {
     "end_time": "2025-08-14T16:12:48.719814Z",
     "start_time": "2025-08-14T16:12:48.716709Z"
    }
   },
   "cell_type": "code",
   "source": "titanic[\"Age\"].shape",
   "id": "fe0ca698fc876fef",
   "outputs": [
    {
     "data": {
      "text/plain": [
       "(891,)"
      ]
     },
     "execution_count": 12,
     "metadata": {},
     "output_type": "execute_result"
    }
   ],
   "execution_count": 12
  }
 ],
 "metadata": {
  "kernelspec": {
   "display_name": "Python 3",
   "language": "python",
   "name": "python3"
  },
  "language_info": {
   "codemirror_mode": {
    "name": "ipython",
    "version": 2
   },
   "file_extension": ".py",
   "mimetype": "text/x-python",
   "name": "python",
   "nbconvert_exporter": "python",
   "pygments_lexer": "ipython2",
   "version": "2.7.6"
  }
 },
 "nbformat": 4,
 "nbformat_minor": 5
}
