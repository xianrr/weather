{
 "cells": [
  {
   "metadata": {
    "ExecuteTime": {
     "end_time": "2025-08-20T02:45:42.827048Z",
     "start_time": "2025-08-20T02:45:42.256217Z"
    }
   },
   "cell_type": "code",
   "source": [
    "import openmeteo_requests\n",
    "import requests_cache\n",
    "from retry_requests import retry\n",
    "import pandas as pd\n",
    "import matplotlib.pyplot as plt\n",
    "from PIL import Image"
   ],
   "id": "a85a7d7503287a46",
   "outputs": [],
   "execution_count": 1
  },
  {
   "metadata": {},
   "cell_type": "markdown",
   "source": "## 中国主要种植区 `location`",
   "id": "134c3a8019a9ee59"
  },
  {
   "metadata": {
    "ExecuteTime": {
     "end_time": "2025-08-20T02:45:42.832094Z",
     "start_time": "2025-08-20T02:45:42.829307Z"
    }
   },
   "cell_type": "code",
   "source": [
    "cn_cities = [\n",
    "    {\n",
    "        \"city\" : \"Heilongjiang, China\",\n",
    "        \"rank\" : \"\",\n",
    "        \"file\" : \"CN(01)Heilongjiang\",\n",
    "        \"latitude\": [45.711458, 47.24944, 50.196843, 46.696852, 46.80382, 46.661628],\n",
    "        \"longitude\": [126.911331, 124.123042, 127.485538, 131.185467, 130.15811, 127.074003]\n",
    "    },{\n",
    "        \"city\" : \"Jilin, China\",\n",
    "        \"rank\" : \"\",\n",
    "        \"file\" : \"CN(02)Jilin\",\n",
    "        \"latitude\": [45.158629, 45.603033, 43.915635, 43.699795, 43.344842],\n",
    "        \"longitude\": [124.925682, 122.71708, 125.124301, 126.422659, 128.335889]\n",
    "    },{\n",
    "        \"city\" : \"Nei Mongolia, China\",\n",
    "        \"rank\" : \"\",\n",
    "        \"file\" : \"CN(03)Nei_Mongolia\",\n",
    "        \"latitude\": [43.565028, 42.21777, 46.081812, 49.180841],\n",
    "        \"longitude\": [122.322846, 118.959309, 122.194087, 119.822004]\n",
    "    },{\n",
    "        \"city\" : \"Liaoning, China\",\n",
    "        \"rank\" : \"\",\n",
    "        \"file\" : \"CN(04)Liaoning\",\n",
    "        \"latitude\": [42.259026, 42.123955, 41.878331],\n",
    "        \"longitude\": [123.796053, 121.730549, 123.292599]\n",
    "    },{\n",
    "        \"city\" : \"Shandong, China\",\n",
    "        \"rank\" : \"\",\n",
    "        \"file\" : \"CN(05)Shandong\",\n",
    "        \"latitude\": [35.366521, 35.165064, 37.412224, 37.488102],\n",
    "        \"longitude\": [116.714225, 115.434856, 118.123013, 116.428977]\n",
    "    },{\n",
    "        \"city\" : \"Hebei, China\",\n",
    "        \"rank\" : \"\",\n",
    "        \"file\" : \"CN(06)Hebei\",\n",
    "        \"latitude\": [37.942457, 36.592158, 36.982222, 37.782119],\n",
    "        \"longitude\": [114.799314, 114.632056, 114.634644, 115.564378]\n",
    "    },{\n",
    "        \"city\" : \"Henan, China\",\n",
    "        \"rank\" : \"\",\n",
    "        \"file\" : \"CN(07)Henan\",\n",
    "        \"latitude\": [32.982629, 33.007689, 33.63096, 34.434656],\n",
    "        \"longitude\": [112.641506, 114.098498, 114.5861, 115.74761]\n",
    "    },{\n",
    "        \"city\" : \"Anhui, China\",\n",
    "        \"rank\" : \"\",\n",
    "        \"file\" : \"CN(08)Anhui\",\n",
    "        \"latitude\": [33.856559, 32.931677],\n",
    "        \"longitude\": [115.8198, 117.520341]\n",
    "    }\n",
    "]\n",
    "\n",
    "styles = [ #列名、最小年、y轴、标题、文件路径\n",
    "    {   # 累计降水量\n",
    "        \"column\": \"cum_sum_precipitation_sum\",\n",
    "        \"min_history_year\": 2022,\n",
    "        \"ylabel\": \"Precipitation (mm)\",\n",
    "        \"title\": \"Cumulative Annual Precipitation of \",\n",
    "        \"pathname\": \"a_Cumulative_Precip\"\n",
    "    },{ # 降水7日滚动\n",
    "        \"column\": \"precip_sum7\",\n",
    "        \"min_history_year\": 2022,\n",
    "        \"ylabel\": \"Precipitation (mm)\",\n",
    "        \"title\": \"Last 7 days Precipitation Summary of \",\n",
    "        \"pathname\": \"b_Precip_SUM(7)\"\n",
    "    # },{  # 降水30日滚动\n",
    "    #     \"column\": \"precip_sum30\",\n",
    "    #     \"min_history_year\": 2022,\n",
    "    #     \"ylabel\": \"Precipitation (mm)\",\n",
    "    #     \"title\": \"Last 30 days Precipitation Summary of \",\n",
    "    #     \"pathname\": \"c_Precip_SUM(30)\"\n",
    "    },{  # 土壤墒情\n",
    "        \"column\": \"soil_moisture_7_to_28cm_mean\",\n",
    "        \"min_history_year\": 2022,\n",
    "        \"ylabel\": \"Soil Moisture (m³/m³)\",\n",
    "        \"title\": \"Mean Soil Moisture (7-28cm) of \",\n",
    "        \"pathname\": \"c_Soil_Moisture\"\n",
    "    },{  # 平均气温\n",
    "        \"column\": \"temperature_2m_mean\",\n",
    "        \"min_history_year\": 2024,\n",
    "        \"ylabel\": \"Temperature (°C)\",\n",
    "        \"title\": \"Mean Temperature of \",\n",
    "        \"pathname\": \"d_Mean_Temper\"\n",
    "    },{  # 积温\n",
    "        \"column\": \"degree_day\",\n",
    "        \"min_history_year\": 2024,\n",
    "        \"ylabel\": \"Degree Day (°C)\",\n",
    "        \"title\": \"Degree Day after 15th Apr. of \",\n",
    "        \"pathname\": \"e_Degree_Day\"\n",
    "    }\n",
    "]"
   ],
   "id": "59ac83e387d5cb33",
   "outputs": [],
   "execution_count": 2
  },
  {
   "metadata": {},
   "cell_type": "markdown",
   "source": "# def 获取 CSV 数据",
   "id": "f3eea9f14fb22b20"
  },
  {
   "metadata": {
    "ExecuteTime": {
     "end_time": "2025-08-20T02:45:42.884578Z",
     "start_time": "2025-08-20T02:45:42.882924Z"
    }
   },
   "cell_type": "code",
   "source": [
    "def read_csv(dataset_path, city_name, start_date, end_date):\n",
    "    history_pd = pd.read_csv(dataset_path)  #'./dataset/MY.csv'\n",
    "    city_history_pd = history_pd[\n",
    "        (history_pd['date'] >= start_date) &\n",
    "        (history_pd['date'] <= end_date) &\n",
    "        (history_pd['city'] == city_name)]  #'Sabah, Malaysia(#1 24%)'\n",
    "    return city_history_pd"
   ],
   "id": "7f5109d878e6a65f",
   "outputs": [],
   "execution_count": 3
  },
  {
   "metadata": {},
   "cell_type": "markdown",
   "source": "## def 获取 OM 数据",
   "id": "1e2b112ec32dcd6e"
  },
  {
   "metadata": {
    "ExecuteTime": {
     "end_time": "2025-08-20T02:45:42.890229Z",
     "start_time": "2025-08-20T02:45:42.887952Z"
    }
   },
   "cell_type": "code",
   "source": [
    "def request_openmeteo_data(start_date, end_date, latitude, longitude, daily):\n",
    "    # Setup the Open-Meteo API client with cache and retry on error\n",
    "    cache_session = requests_cache.CachedSession('.cache', expire_after = -1)\n",
    "    retry_session = retry(cache_session, retries = 5, backoff_factor = 0.2)\n",
    "    openmeteo = openmeteo_requests.Client(session = retry_session)\n",
    "    # Make sure all required weather variables are listed here\n",
    "    # The order of variables in hourly or daily is important to assign them correctly below\n",
    "    url = \"https://archive-api.open-meteo.com/v1/archive\"\n",
    "    params = {\n",
    "        \"start_date\": start_date,\n",
    "        \"end_date\": end_date,\n",
    "        \"latitude\": latitude,\n",
    "        \"longitude\": longitude,\n",
    "        \"daily\": daily\n",
    "    }\n",
    "    responses = openmeteo.weather_api(url, params=params)\n",
    "    return responses"
   ],
   "id": "e7192f51da23045f",
   "outputs": [],
   "execution_count": 4
  },
  {
   "metadata": {},
   "cell_type": "markdown",
   "source": "# def API 样本➜省份",
   "id": "3a9f151a88bc1d8b"
  },
  {
   "metadata": {
    "ExecuteTime": {
     "end_time": "2025-08-20T02:45:42.895641Z",
     "start_time": "2025-08-20T02:45:42.893583Z"
    }
   },
   "cell_type": "code",
   "source": [
    "def process_sample_data(responses):\n",
    "    df_all_sample = pd.DataFrame()\n",
    "    for response in responses:\n",
    "        daily = response.Daily()\n",
    "        daily_temperature_2m_mean = daily.Variables(0).ValuesAsNumpy()\n",
    "        daily_precipitation_sum = daily.Variables(1).ValuesAsNumpy()\n",
    "        daily_soil_moisture_7_to_28cm_mean = daily.Variables(2).ValuesAsNumpy()\n",
    "        # 日期\n",
    "        daily_data = {\"date\": pd.date_range(\n",
    "            start = pd.to_datetime(daily.Time(), unit = \"s\", utc = True),\n",
    "            end = pd.to_datetime(daily.TimeEnd(), unit = \"s\", utc = True),\n",
    "            freq = pd.Timedelta(seconds = daily.Interval()),\n",
    "            inclusive = \"left\"\n",
    "        )}\n",
    "        # 指标\n",
    "        daily_data[\"temperature_2m_mean\"] = daily_temperature_2m_mean\n",
    "        daily_data[\"precipitation_sum\"] = daily_precipitation_sum\n",
    "        daily_data[\"soil_moisture_7_to_28cm_mean\"] = daily_soil_moisture_7_to_28cm_mean\n",
    "        #整合\n",
    "        daily_dataframe = pd.DataFrame(data = daily_data)\n",
    "        df_all_sample = pd.concat([df_all_sample, daily_dataframe], ignore_index=True)\n",
    "    # 样本合并\n",
    "    df_l2 = df_all_sample.groupby('date', as_index=False)[['temperature_2m_mean', 'precipitation_sum', 'soil_moisture_7_to_28cm_mean']].mean()\n",
    "\n",
    "    return df_l2"
   ],
   "id": "20d63baf679e23f2",
   "outputs": [],
   "execution_count": 5
  },
  {
   "metadata": {},
   "cell_type": "markdown",
   "source": "## def 数据处理",
   "id": "44853f9cf8b66bfb"
  },
  {
   "metadata": {
    "ExecuteTime": {
     "end_time": "2025-08-20T02:45:42.900785Z",
     "start_time": "2025-08-20T02:45:42.898790Z"
    }
   },
   "cell_type": "code",
   "source": [
    "def polt_data_prepare(merge_pd):\n",
    "    # 转换：date 列为 datetime 类型\n",
    "    merge_pd['date'] = pd.to_datetime(merge_pd['date'], errors='coerce')\n",
    "    # 添加：年份列\n",
    "    merge_pd['year'] = merge_pd['date'].dt.year\n",
    "    # 添加：日序列\n",
    "    merge_pd['day_of_year'] = merge_pd['date'].dt.dayofyear\n",
    "    # 添加：累计降水列\n",
    "    merge_pd['cum_sum_precipitation_sum'] = merge_pd.groupby('year')['precipitation_sum'].cumsum()\n",
    "    # 添加：7日降水和\n",
    "    merge_pd['precip_sum7'] = merge_pd['precipitation_sum'].rolling(window=7, min_periods=1).sum()\n",
    "    # # 添加：30日降水和\n",
    "    # merge_pd['precip_sum30'] = merge_pd['precipitation_sum'].rolling(window=30, min_periods=1).sum()\n",
    "    # # 添加：5日气温平均\n",
    "    # merge_pd['temper_ma5'] = merge_pd['temperature_2m_mean'].rolling(window=5, min_periods=1).mean()\n",
    "    # 处理闰年\n",
    "    merge_pd = merge_pd[merge_pd['day_of_year'] <= 365]\n",
    "    # 积温\n",
    "    merge_pd = merge_pd.assign(t=0.0)\n",
    "    mask = (merge_pd['day_of_year'] > 105) & (merge_pd['temperature_2m_mean'] >= 10)\n",
    "    merge_pd.loc[mask, 't'] = merge_pd.loc[mask, 'temperature_2m_mean']\n",
    "    merge_pd.loc[:, 'degree_day'] = merge_pd.groupby('year')['t'].cumsum()\n",
    "    merge_pd.drop(columns = ['t'], inplace = True)\n",
    "\n",
    "    return merge_pd"
   ],
   "id": "baf7f944162a9ccc",
   "outputs": [],
   "execution_count": 6
  },
  {
   "metadata": {},
   "cell_type": "markdown",
   "source": "# 绘图",
   "id": "7d019ab794888fa5"
  },
  {
   "metadata": {
    "ExecuteTime": {
     "end_time": "2025-08-20T02:45:42.908421Z",
     "start_time": "2025-08-20T02:45:42.903964Z"
    }
   },
   "cell_type": "code",
   "source": [
    "def dig(df_l2, style, city_name, file_city_name):\n",
    "    # 样式\n",
    "    column = style[\"column\"]       # 列名（指标）\n",
    "    min_history_year = style[\"min_history_year\"] # 显示最小的年份\n",
    "    ylabel = style[\"ylabel\"]       # y轴名称\n",
    "    title = style[\"title\"]         # 标题\n",
    "    pathname = style[\"pathname\"]   # 文件名\n",
    "\n",
    "\n",
    "    # 历史数据-分析\n",
    "    df_l2_history = df_l2[df_l2['year'] != year_of_today]\n",
    "    ## 历史数据平均\n",
    "    average_accumulated = df_l2_history.groupby('day_of_year')[column].mean().reset_index()\n",
    "    ## 历史数据区间 5%-95%\n",
    "    quantiles = df_l2_history.groupby('day_of_year')[column].quantile([0.05, 0.95]).unstack().reset_index()\n",
    "\n",
    "    # 可视化\n",
    "    fig = plt.figure(figsize=(10.5, 6))\n",
    "    fig.text(0.5, 0.5, '© Xiamen Xiangyu', fontsize=30, color='gray',\n",
    "             alpha=0.2, ha='center', va='center', rotation=30)\n",
    "    ## (1)历史数据区间\n",
    "    plt.fill_between(quantiles['day_of_year'],\n",
    "                     quantiles[0.05],\n",
    "                     quantiles[0.95],\n",
    "                     color='skyblue',\n",
    "                     alpha= 0.4,\n",
    "                     label='5%-95%')\n",
    "    ## (2)历史数据平均\n",
    "    plt.plot(average_accumulated['day_of_year'],\n",
    "             average_accumulated[column],\n",
    "             \"k--\",\n",
    "             linewidth=1.2,\n",
    "             label='10yr_average')\n",
    "    ## (3)历史历年数据\n",
    "    years = df_l2['year'].unique()\n",
    "    for year in years:\n",
    "        if year != year_of_today and year >= min_history_year:\n",
    "            year_data = df_l2[df_l2['year'] == year]\n",
    "            plt.plot(year_data['day_of_year'],\n",
    "                     year_data[column],\n",
    "                     alpha=0.6,\n",
    "                     linewidth=1.2,\n",
    "                     label=year)\n",
    "    ## (4)今年数据\n",
    "    year_data = df_l2[df_l2['year'] == year_of_today]\n",
    "    plt.plot(year_data['day_of_year'],\n",
    "             year_data[column],\n",
    "             alpha=1.0,\n",
    "             linewidth=1.5,\n",
    "             color='red',\n",
    "             label=year)\n",
    "    ##\n",
    "    month_ticks = [1, 32, 60, 91, 121, 152, 182, 213, 244, 274, 305, 335]\n",
    "    month_labels = [\"Jan\", \"Feb\", \"Mar\", \"Apr\", \"May\", \"Jun\",\n",
    "                    \"Jul\", \"Aug\", \"Sep\", \"Oct\", \"Nov\", \"Dec\"]\n",
    "    plt.xticks(month_ticks, month_labels)\n",
    "    plt.xlabel('Months')\n",
    "    plt.ylabel(ylabel)\n",
    "    plt.title(f'{title}{city_name}')\n",
    "    plt.legend()\n",
    "    plt.grid(True, alpha=0.3)\n",
    "    plt.legend()\n",
    "    plt.tight_layout()\n",
    "    # plt.show()\n",
    "    if pathname == \"e_Degree_Day\":\n",
    "        plt.xlim(105, 260)\n",
    "    fig.savefig(f'./diagram/CN/{file_city_name}_{pathname}.jpg', dpi=300)\n",
    "    plt.close(fig)"
   ],
   "id": "a2b2efc7f6d982f4",
   "outputs": [],
   "execution_count": 7
  },
  {
   "metadata": {},
   "cell_type": "markdown",
   "source": [
    "## 图片合成\n",
    "\n"
   ],
   "id": "e0c629cf31c3b4b"
  },
  {
   "metadata": {
    "ExecuteTime": {
     "end_time": "2025-08-20T02:45:42.914289Z",
     "start_time": "2025-08-20T02:45:42.912133Z"
    }
   },
   "cell_type": "code",
   "source": [
    "def dig_merge(city_list, col_num, output_path):\n",
    "    image_paths = []\n",
    "    for city in city_list:\n",
    "        #image_paths.append(f'./floder/{city['file']}_Weekly_Precip.jpg')\n",
    "        for style in styles:\n",
    "            image_paths.append(f'./diagram/CN/{city['file']}_{style['pathname']}.jpg')\n",
    "\n",
    "    images = [Image.open(path) for path in image_paths]\n",
    "\n",
    "    img_width, img_height = images[0].size\n",
    "\n",
    "    grid_img = Image.new('RGB', (img_width * col_num, img_height * int(len(images)//col_num)))\n",
    "\n",
    "    for idx, img in enumerate(images):\n",
    "        row = idx // col_num\n",
    "        col = idx % col_num\n",
    "        grid_img.paste(img, (col * img_width, row * img_height))\n",
    "    #\n",
    "    grid_img.save(output_path)"
   ],
   "id": "8c8c4c3185d8622a",
   "outputs": [],
   "execution_count": 8
  },
  {
   "metadata": {},
   "cell_type": "markdown",
   "source": "## 主程序",
   "id": "d0cc45eb13355755"
  },
  {
   "metadata": {
    "ExecuteTime": {
     "end_time": "2025-08-20T02:45:46.836049Z",
     "start_time": "2025-08-20T02:45:42.918585Z"
    }
   },
   "cell_type": "code",
   "source": [
    "# *******************\n",
    "# 基础信息\n",
    "year_of_today = 2025\n",
    "# API查询参数\n",
    "csv_start_date = \"2014-01-01\"\n",
    "csv_end_date   = \"2025-08-10\"\n",
    "api_start_date = csv_end_date\n",
    "api_end_date   = \"2025-08-16\"\n",
    "# 温度（日平均）、降水（雨+雪）、墒情（7-28）\n",
    "daily = [\"temperature_2m_mean\",\n",
    "         \"precipitation_sum\",\n",
    "         \"soil_moisture_7_to_28cm_mean\"]\n",
    "\n",
    "output_pd = pd.DataFrame()\n",
    "for city in cn_cities:\n",
    "    # 读取 city 信息\n",
    "    city_name = city['city']\n",
    "    file_city_name = city[\"file\"]\n",
    "    latitude = city[\"latitude\"]\n",
    "    longitude = city[\"longitude\"]\n",
    "\n",
    "    # 【旧】获取 csv 数据\n",
    "    csv_pd = read_csv(\"./dataset/CN(2).csv\", city_name, csv_start_date, csv_end_date)\n",
    "\n",
    "    # 【新】获取 api 数据\n",
    "    responses = request_openmeteo_data(api_start_date, api_end_date, latitude, longitude, daily)\n",
    "    # 【新】处理 api 数据\n",
    "    api_pd = process_sample_data(responses)\n",
    "\n",
    "    # 【合】整合 csv、api 数据\n",
    "    merge_pd = pd.concat([csv_pd, api_pd], ignore_index=True)\n",
    "    merge_pd[\"city\"] = city_name\n",
    "\n",
    "    # 数据处理\n",
    "    polt_data_pd = polt_data_prepare(merge_pd)\n",
    "\n",
    "    # 数据存储准备\n",
    "    # api_pd[\"city\"] = city_name\n",
    "    output_pd = pd.concat([output_pd, polt_data_pd], ignore_index=True)\n",
    "\n",
    "    for style in styles:\n",
    "            dig(polt_data_pd, style, city_name, file_city_name)\n",
    "\n",
    "\n",
    "    # 数据绘图\n",
    "    print(f\"Finish：{city_name}\")\n",
    "\n",
    "# 数据导出\n",
    "output_pd.to_csv('./dataset/CN(3).csv', index=False, encoding='utf-8-sig')\n",
    "\n",
    "# 图片合成\n",
    "dig_merge(cn_cities, int(len(styles)), \"./diagram_grid/CN.jpg\")\n",
    "\n"
   ],
   "id": "a38fc4e82c886274",
   "outputs": [
    {
     "name": "stdout",
     "output_type": "stream",
     "text": [
      "Finish：Heilongjiang, China\n",
      "Finish：Jilin, China\n",
      "Finish：Nei Mongolia, China\n",
      "Finish：Liaoning, China\n",
      "Finish：Shandong, China\n",
      "Finish：Hebei, China\n",
      "Finish：Henan, China\n",
      "Finish：Anhui, China\n"
     ]
    }
   ],
   "execution_count": 9
  }
 ],
 "metadata": {
  "kernelspec": {
   "display_name": "Python 3",
   "language": "python",
   "name": "python3"
  },
  "language_info": {
   "codemirror_mode": {
    "name": "ipython",
    "version": 2
   },
   "file_extension": ".py",
   "mimetype": "text/x-python",
   "name": "python",
   "nbconvert_exporter": "python",
   "pygments_lexer": "ipython2",
   "version": "2.7.6"
  }
 },
 "nbformat": 4,
 "nbformat_minor": 5
}
