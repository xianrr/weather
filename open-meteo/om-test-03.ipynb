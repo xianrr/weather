{
 "cells": [
  {
   "metadata": {
    "ExecuteTime": {
     "end_time": "2025-08-13T09:43:17.905540Z",
     "start_time": "2025-08-13T09:43:17.193195Z"
    }
   },
   "cell_type": "code",
   "source": [
    "import openmeteo_requests\n",
    "import requests_cache\n",
    "from retry_requests import retry\n",
    "import pandas as pd\n",
    "import matplotlib.pyplot as plt\n",
    "from PIL import Image"
   ],
   "id": "212b0ccfd04e7795",
   "outputs": [],
   "execution_count": 1
  },
  {
   "metadata": {},
   "cell_type": "markdown",
   "source": "## 中国主要种植区 `location`",
   "id": "33756a3278de7c79"
  },
  {
   "metadata": {
    "ExecuteTime": {
     "end_time": "2025-08-13T09:43:17.914472Z",
     "start_time": "2025-08-13T09:43:17.911677Z"
    }
   },
   "cell_type": "code",
   "source": [
    "cn_cities = [\n",
    "    {\n",
    "        \"city\" : \"Heilongjiang, China\",\n",
    "        \"rank\" : \"\",\n",
    "        \"file\" : \"CN(01)Heilongjiang\",\n",
    "        \"latitude\": [45.711458, 47.24944, 50.196843, 46.696852, 46.80382, 46.661628],\n",
    "        \"longitude\": [126.911331, 124.123042, 127.485538, 131.185467, 130.15811, 127.074003]\n",
    "    },{\n",
    "        \"city\" : \"Jilin, China\",\n",
    "        \"rank\" : \"\",\n",
    "        \"file\" : \"CN(02)Jilin\",\n",
    "        \"latitude\": [45.158629, 45.603033, 43.915635, 43.699795, 43.344842],\n",
    "        \"longitude\": [124.925682, 122.71708, 125.124301, 126.422659, 128.335889]\n",
    "    },{\n",
    "        \"city\" : \"Nei Mongolia, China\",\n",
    "        \"rank\" : \"\",\n",
    "        \"file\" : \"CN(03)Nei_Mongolia\",\n",
    "        \"latitude\": [43.565028, 42.21777, 46.081812, 49.180841],\n",
    "        \"longitude\": [122.322846, 118.959309, 122.194087, 119.822004]\n",
    "    },{\n",
    "        \"city\" : \"Liaoning, China\",\n",
    "        \"rank\" : \"\",\n",
    "        \"file\" : \"CN(04)Liaoning\",\n",
    "        \"latitude\": [42.259026, 42.123955, 41.878331],\n",
    "        \"longitude\": [123.796053, 121.730549, 123.292599]\n",
    "    },{\n",
    "        \"city\" : \"Shandong, China\",\n",
    "        \"rank\" : \"\",\n",
    "        \"file\" : \"CN(05)Shandong\",\n",
    "        \"latitude\": [35.366521, 35.165064, 37.412224, 37.488102],\n",
    "        \"longitude\": [116.714225, 115.434856, 118.123013, 116.428977]\n",
    "    },{\n",
    "        \"city\" : \"Hebei, China\",\n",
    "        \"rank\" : \"\",\n",
    "        \"file\" : \"CN(06)Hebei\",\n",
    "        \"latitude\": [37.942457, 36.592158, 36.982222, 37.782119],\n",
    "        \"longitude\": [114.799314, 114.632056, 114.634644, 115.564378]\n",
    "    },{\n",
    "        \"city\" : \"Henan, China\",\n",
    "        \"rank\" : \"\",\n",
    "        \"file\" : \"CN(07)Henan\",\n",
    "        \"latitude\": [32.982629, 33.007689, 33.63096, 34.434656],\n",
    "        \"longitude\": [112.641506, 114.098498, 114.5861, 115.74761]\n",
    "    },{\n",
    "        \"city\" : \"Anhui, China\",\n",
    "        \"rank\" : \"\",\n",
    "        \"file\" : \"CN(08)Anhui\",\n",
    "        \"latitude\": [33.856559, 32.931677],\n",
    "        \"longitude\": [115.8198, 117.520341]\n",
    "    }\n",
    "]"
   ],
   "id": "85cd05cebb68e575",
   "outputs": [],
   "execution_count": 2
  },
  {
   "metadata": {},
   "cell_type": "markdown",
   "source": "## def 获取 OM 数据",
   "id": "36429460e5ef68c7"
  },
  {
   "metadata": {
    "ExecuteTime": {
     "end_time": "2025-08-13T09:43:17.919544Z",
     "start_time": "2025-08-13T09:43:17.917356Z"
    }
   },
   "cell_type": "code",
   "source": [
    "def request_openmeteo_data(start_date, end_date, latitude, longitude, daily):\n",
    "    # Setup the Open-Meteo API client with cache and retry on error\n",
    "    cache_session = requests_cache.CachedSession('.cache', expire_after = -1)\n",
    "    retry_session = retry(cache_session, retries = 5, backoff_factor = 0.2)\n",
    "    openmeteo = openmeteo_requests.Client(session = retry_session)\n",
    "    # Make sure all required weather variables are listed here\n",
    "    # The order of variables in hourly or daily is important to assign them correctly below\n",
    "    url = \"https://archive-api.open-meteo.com/v1/archive\"\n",
    "    params = {\n",
    "        \"start_date\": start_date,\n",
    "        \"end_date\": end_date,\n",
    "        \"latitude\": latitude,\n",
    "        \"longitude\": longitude,\n",
    "        \"daily\": daily\n",
    "    }\n",
    "    responses = openmeteo.weather_api(url, params=params)\n",
    "    return responses"
   ],
   "id": "1383398f86fc51a0",
   "outputs": [],
   "execution_count": 3
  },
  {
   "metadata": {},
   "cell_type": "markdown",
   "source": "# def API 样本➜省份",
   "id": "e914125d91d37860"
  },
  {
   "metadata": {
    "ExecuteTime": {
     "end_time": "2025-08-13T09:43:17.980154Z",
     "start_time": "2025-08-13T09:43:17.977433Z"
    }
   },
   "cell_type": "code",
   "source": [
    "def process_sample_data(responses):\n",
    "    df_all_sample = pd.DataFrame()\n",
    "    for response in responses:\n",
    "        daily = response.Daily()\n",
    "        daily_temperature_2m_mean = daily.Variables(0).ValuesAsNumpy()\n",
    "        daily_precipitation_sum = daily.Variables(1).ValuesAsNumpy()\n",
    "        daily_soil_moisture_7_to_28cm_mean = daily.Variables(2).ValuesAsNumpy()\n",
    "        # 日期\n",
    "        daily_data = {\"date\": pd.date_range(\n",
    "            start = pd.to_datetime(daily.Time(), unit = \"s\", utc = True),\n",
    "            end = pd.to_datetime(daily.TimeEnd(), unit = \"s\", utc = True),\n",
    "            freq = pd.Timedelta(seconds = daily.Interval()),\n",
    "            inclusive = \"left\"\n",
    "        )}\n",
    "        # 指标\n",
    "        daily_data[\"temperature_2m_mean\"] = daily_temperature_2m_mean\n",
    "        daily_data[\"precipitation_sum\"] = daily_precipitation_sum\n",
    "        daily_data[\"soil_moisture_7_to_28cm_mean\"] = daily_soil_moisture_7_to_28cm_mean\n",
    "        #整合\n",
    "        daily_dataframe = pd.DataFrame(data = daily_data)\n",
    "        df_all_sample = pd.concat([df_all_sample, daily_dataframe], ignore_index=True)\n",
    "    # 样本合并\n",
    "    df_l2 = df_all_sample.groupby('date', as_index=False)[['temperature_2m_mean', 'precipitation_sum', 'soil_moisture_7_to_28cm_mean']].mean()\n",
    "\n",
    "    return df_l2"
   ],
   "id": "64094c4a09f72155",
   "outputs": [],
   "execution_count": 4
  },
  {
   "metadata": {},
   "cell_type": "markdown",
   "source": "## def 数据处理",
   "id": "f1240e4e98593d98"
  },
  {
   "metadata": {
    "ExecuteTime": {
     "end_time": "2025-08-13T09:43:17.988908Z",
     "start_time": "2025-08-13T09:43:17.986921Z"
    }
   },
   "cell_type": "code",
   "source": [
    "def polt_data_prepare(merge_pd):\n",
    "    # 转换：date 列为 datetime 类型\n",
    "    merge_pd['date'] = pd.to_datetime(merge_pd['date'], errors='coerce')\n",
    "    # 添加：年份列\n",
    "    merge_pd['year'] = merge_pd['date'].dt.year\n",
    "    # 添加：日序列\n",
    "    merge_pd['day_of_year'] = merge_pd['date'].dt.dayofyear\n",
    "    # 添加：累计降水列\n",
    "    merge_pd['cum_sum_precipitation_sum'] = merge_pd.groupby('year')['precipitation_sum'].cumsum()\n",
    "    # # 添加：7日降水和\n",
    "    # merge_pd['precip_sum7'] = merge_pd['precipitation_sum'].rolling(window=7, min_periods=1).sum()\n",
    "    # # 添加：30日降水和\n",
    "    # merge_pd['precip_sum30'] = merge_pd['precipitation_sum'].rolling(window=30, min_periods=1).sum()\n",
    "    # # 添加：5日气温平均\n",
    "    # merge_pd['temper_ma5'] = merge_pd['temperature_2m_mean'].rolling(window=5, min_periods=1).mean()\n",
    "    # 处理闰年\n",
    "    merge_pd = merge_pd[merge_pd['day_of_year'] <= 365]\n",
    "    # 积温\n",
    "    temp01 = merge_pd[ (merge_pd['day_of_year'] >= 105) & (merge_pd['temperature_2m_mean'] >= 10.0) ]\n",
    "    temp01['degree_day'] = temp01.groupby('year')['temperature_2m_mean'].cumsum()\n",
    "    temp01 = temp01[['date', 'degree_day']]\n",
    "    temp02 = pd.merge(merge_pd, temp01, how='left' , on='date')\n",
    "\n",
    "    return temp02"
   ],
   "id": "530ae6d144c53195",
   "outputs": [],
   "execution_count": 5
  },
  {
   "metadata": {},
   "cell_type": "markdown",
   "source": "## 主程序",
   "id": "33d152632f9aad10"
  },
  {
   "metadata": {
    "ExecuteTime": {
     "end_time": "2025-08-13T09:48:46.550003Z",
     "start_time": "2025-08-13T09:48:04.896165Z"
    }
   },
   "cell_type": "code",
   "source": [
    "# *******************\n",
    "# 基础信息\n",
    "year_of_today = 2024\n",
    "# API查询参数\n",
    "# csv_start_date = \"2015-01-01\"\n",
    "# csv_end_date   = \"2025-07-01\"\n",
    "api_start_date = \"2025-01-01\"\n",
    "api_end_date   = \"2025-02-28\"\n",
    "# 温度（日平均）、降水（雨+雪）、墒情（28-100）\n",
    "daily = [\"temperature_2m_mean\",\n",
    "         \"precipitation_sum\",\n",
    "         \"soil_moisture_7_to_28cm_mean\"]\n",
    "\n",
    "output_pd = pd.DataFrame()\n",
    "for city in cn_cities:\n",
    "    # 读取 city 信息\n",
    "    city_name = city['city']\n",
    "    file_city_name = city[\"file\"]\n",
    "    latitude = city[\"latitude\"]\n",
    "    longitude = city[\"longitude\"]\n",
    "\n",
    "    # 【旧】获取 csv 数据\n",
    "\n",
    "    # 【新】获取 api 数据\n",
    "    responses = request_openmeteo_data(api_start_date, api_end_date, latitude, longitude, daily)\n",
    "    # 【新】处理 api 数据\n",
    "    api_pd = process_sample_data(responses)\n",
    "\n",
    "    # 【合】整合 csv、api 数据\n",
    "\n",
    "    # 数据处理\n",
    "    polt_data_pd = polt_data_prepare(api_pd)\n",
    "\n",
    "    # 数据存储准备\n",
    "    api_pd[\"city\"] = city_name\n",
    "    output_pd = pd.concat([output_pd, api_pd], ignore_index=True)\n",
    "\n",
    "    # 数据绘图\n",
    "    print(f\"Finish：{city_name}\")\n",
    "\n",
    "# 数据导出\n",
    "output_pd.to_csv('./dataset/CN.csv', index=False, encoding='utf-8-sig')\n",
    "\n",
    "\n"
   ],
   "id": "4dade9d0b7fff5a5",
   "outputs": [
    {
     "ename": "KeyboardInterrupt",
     "evalue": "",
     "output_type": "error",
     "traceback": [
      "\u001B[31m---------------------------------------------------------------------------\u001B[39m",
      "\u001B[31mKeyboardInterrupt\u001B[39m                         Traceback (most recent call last)",
      "\u001B[36mCell\u001B[39m\u001B[36m \u001B[39m\u001B[32mIn[8]\u001B[39m\u001B[32m, line 25\u001B[39m\n\u001B[32m     20\u001B[39m longitude = city[\u001B[33m\"\u001B[39m\u001B[33mlongitude\u001B[39m\u001B[33m\"\u001B[39m]\n\u001B[32m     22\u001B[39m \u001B[38;5;66;03m# 【旧】获取 csv 数据\u001B[39;00m\n\u001B[32m     23\u001B[39m \n\u001B[32m     24\u001B[39m \u001B[38;5;66;03m# 【新】获取 api 数据\u001B[39;00m\n\u001B[32m---> \u001B[39m\u001B[32m25\u001B[39m responses = \u001B[43mrequest_openmeteo_data\u001B[49m\u001B[43m(\u001B[49m\u001B[43mapi_start_date\u001B[49m\u001B[43m,\u001B[49m\u001B[43m \u001B[49m\u001B[43mapi_end_date\u001B[49m\u001B[43m,\u001B[49m\u001B[43m \u001B[49m\u001B[43mlatitude\u001B[49m\u001B[43m,\u001B[49m\u001B[43m \u001B[49m\u001B[43mlongitude\u001B[49m\u001B[43m,\u001B[49m\u001B[43m \u001B[49m\u001B[43mdaily\u001B[49m\u001B[43m)\u001B[49m\n\u001B[32m     26\u001B[39m \u001B[38;5;66;03m# 【新】处理 api 数据\u001B[39;00m\n\u001B[32m     27\u001B[39m api_pd = process_sample_data(responses)\n",
      "\u001B[36mCell\u001B[39m\u001B[36m \u001B[39m\u001B[32mIn[3]\u001B[39m\u001B[32m, line 16\u001B[39m, in \u001B[36mrequest_openmeteo_data\u001B[39m\u001B[34m(start_date, end_date, latitude, longitude, daily)\u001B[39m\n\u001B[32m      8\u001B[39m url = \u001B[33m\"\u001B[39m\u001B[33mhttps://archive-api.open-meteo.com/v1/archive\u001B[39m\u001B[33m\"\u001B[39m\n\u001B[32m      9\u001B[39m params = {\n\u001B[32m     10\u001B[39m     \u001B[33m\"\u001B[39m\u001B[33mstart_date\u001B[39m\u001B[33m\"\u001B[39m: start_date,\n\u001B[32m     11\u001B[39m     \u001B[33m\"\u001B[39m\u001B[33mend_date\u001B[39m\u001B[33m\"\u001B[39m: end_date,\n\u001B[32m   (...)\u001B[39m\u001B[32m     14\u001B[39m     \u001B[33m\"\u001B[39m\u001B[33mdaily\u001B[39m\u001B[33m\"\u001B[39m: daily\n\u001B[32m     15\u001B[39m }\n\u001B[32m---> \u001B[39m\u001B[32m16\u001B[39m responses = \u001B[43mopenmeteo\u001B[49m\u001B[43m.\u001B[49m\u001B[43mweather_api\u001B[49m\u001B[43m(\u001B[49m\u001B[43murl\u001B[49m\u001B[43m,\u001B[49m\u001B[43m \u001B[49m\u001B[43mparams\u001B[49m\u001B[43m=\u001B[49m\u001B[43mparams\u001B[49m\u001B[43m)\u001B[49m\n\u001B[32m     17\u001B[39m \u001B[38;5;28;01mreturn\u001B[39;00m responses\n",
      "\u001B[36mFile \u001B[39m\u001B[32m/Library/Frameworks/Python.framework/Versions/3.13/lib/python3.13/site-packages/openmeteo_requests/Client.py:94\u001B[39m, in \u001B[36mClient.weather_api\u001B[39m\u001B[34m(self, url, params, method, verify, **kwargs)\u001B[39m\n\u001B[32m     91\u001B[39m         msg = \u001B[33m\"\u001B[39m\u001B[33mUnavailable connection\u001B[39m\u001B[33m\"\u001B[39m\n\u001B[32m     92\u001B[39m         \u001B[38;5;28;01mraise\u001B[39;00m \u001B[38;5;167;01mConnectionError\u001B[39;00m(msg)\n\u001B[32m---> \u001B[39m\u001B[32m94\u001B[39m     \u001B[38;5;28;01mreturn\u001B[39;00m \u001B[38;5;28;43mself\u001B[39;49m\u001B[43m.\u001B[49m\u001B[43m_request\u001B[49m\u001B[43m(\u001B[49m\n\u001B[32m     95\u001B[39m \u001B[43m        \u001B[49m\u001B[43murl\u001B[49m\u001B[43m=\u001B[49m\u001B[43murl\u001B[49m\u001B[43m,\u001B[49m\n\u001B[32m     96\u001B[39m \u001B[43m        \u001B[49m\u001B[43mmethod\u001B[49m\u001B[43m=\u001B[49m\u001B[43mmethod\u001B[49m\u001B[43m,\u001B[49m\n\u001B[32m     97\u001B[39m \u001B[43m        \u001B[49m\u001B[43mparams\u001B[49m\u001B[43m=\u001B[49m\u001B[38;5;28;43mdict\u001B[39;49m\u001B[43m(\u001B[49m\u001B[43mparams\u001B[49m\u001B[43m)\u001B[49m\u001B[43m,\u001B[49m\n\u001B[32m     98\u001B[39m \u001B[43m        \u001B[49m\u001B[43mverify\u001B[49m\u001B[43m=\u001B[49m\u001B[43mverify\u001B[49m\u001B[43m,\u001B[49m\n\u001B[32m     99\u001B[39m \u001B[43m        \u001B[49m\u001B[43m*\u001B[49m\u001B[43m*\u001B[49m\u001B[43mkwargs\u001B[49m\u001B[43m,\u001B[49m\n\u001B[32m    100\u001B[39m \u001B[43m    \u001B[49m\u001B[43m)\u001B[49m\n\u001B[32m    101\u001B[39m \u001B[38;5;28;01mexcept\u001B[39;00m \u001B[38;5;167;01mException\u001B[39;00m \u001B[38;5;28;01mas\u001B[39;00m e:\n\u001B[32m    102\u001B[39m     msg = \u001B[33mf\u001B[39m\u001B[33m\"\u001B[39m\u001B[33mfailed to request \u001B[39m\u001B[38;5;132;01m{\u001B[39;00murl\u001B[38;5;132;01m!r}\u001B[39;00m\u001B[33m: \u001B[39m\u001B[38;5;132;01m{\u001B[39;00me\u001B[38;5;132;01m}\u001B[39;00m\u001B[33m\"\u001B[39m\n",
      "\u001B[36mFile \u001B[39m\u001B[32m/Library/Frameworks/Python.framework/Versions/3.13/lib/python3.13/site-packages/openmeteo_requests/Client.py:64\u001B[39m, in \u001B[36mClient._request\u001B[39m\u001B[34m(self, url, method, params, verify, **kwargs)\u001B[39m\n\u001B[32m     61\u001B[39m params[\u001B[33m\"\u001B[39m\u001B[33mformat\u001B[39m\u001B[33m\"\u001B[39m] = _FLAT_BUFFERS_FORMAT\n\u001B[32m     63\u001B[39m \u001B[38;5;28;01mif\u001B[39;00m method.upper() == HTTPVerb.GET:\n\u001B[32m---> \u001B[39m\u001B[32m64\u001B[39m     response = \u001B[38;5;28;43mself\u001B[39;49m\u001B[43m.\u001B[49m\u001B[43m_session\u001B[49m\u001B[43m.\u001B[49m\u001B[43mget\u001B[49m\u001B[43m(\u001B[49m\n\u001B[32m     65\u001B[39m \u001B[43m        \u001B[49m\u001B[43murl\u001B[49m\u001B[43m,\u001B[49m\u001B[43m \u001B[49m\u001B[43mparams\u001B[49m\u001B[43m=\u001B[49m\u001B[43mparams\u001B[49m\u001B[43m,\u001B[49m\u001B[43m \u001B[49m\u001B[43mverify\u001B[49m\u001B[43m=\u001B[49m\u001B[43mverify\u001B[49m\u001B[43m,\u001B[49m\u001B[43m \u001B[49m\u001B[43m*\u001B[49m\u001B[43m*\u001B[49m\u001B[43mkwargs\u001B[49m\n\u001B[32m     66\u001B[39m \u001B[43m    \u001B[49m\u001B[43m)\u001B[49m\n\u001B[32m     67\u001B[39m \u001B[38;5;28;01mif\u001B[39;00m method.upper() == HTTPVerb.POST:\n\u001B[32m     68\u001B[39m     response = \u001B[38;5;28mself\u001B[39m._session.post(\n\u001B[32m     69\u001B[39m         url, data=params, verify=verify, **kwargs\n\u001B[32m     70\u001B[39m     )\n",
      "\u001B[36mFile \u001B[39m\u001B[32m/Library/Frameworks/Python.framework/Versions/3.13/lib/python3.13/site-packages/requests_cache/session.py:127\u001B[39m, in \u001B[36mCacheMixin.get\u001B[39m\u001B[34m(self, url, params, **kwargs)\u001B[39m\n\u001B[32m    125\u001B[39m \u001B[38;5;28;01mdef\u001B[39;00m\u001B[38;5;250m \u001B[39m\u001B[34mget\u001B[39m(\u001B[38;5;28mself\u001B[39m, url: \u001B[38;5;28mstr\u001B[39m, params=\u001B[38;5;28;01mNone\u001B[39;00m, **kwargs) -> AnyResponse:  \u001B[38;5;66;03m# type: ignore\u001B[39;00m\n\u001B[32m    126\u001B[39m     kwargs.setdefault(\u001B[33m'\u001B[39m\u001B[33mallow_redirects\u001B[39m\u001B[33m'\u001B[39m, \u001B[38;5;28;01mTrue\u001B[39;00m)\n\u001B[32m--> \u001B[39m\u001B[32m127\u001B[39m     \u001B[38;5;28;01mreturn\u001B[39;00m \u001B[38;5;28;43mself\u001B[39;49m\u001B[43m.\u001B[49m\u001B[43mrequest\u001B[49m\u001B[43m(\u001B[49m\u001B[33;43m'\u001B[39;49m\u001B[33;43mGET\u001B[39;49m\u001B[33;43m'\u001B[39;49m\u001B[43m,\u001B[49m\u001B[43m \u001B[49m\u001B[43murl\u001B[49m\u001B[43m,\u001B[49m\u001B[43m \u001B[49m\u001B[43mparams\u001B[49m\u001B[43m=\u001B[49m\u001B[43mparams\u001B[49m\u001B[43m,\u001B[49m\u001B[43m \u001B[49m\u001B[43m*\u001B[49m\u001B[43m*\u001B[49m\u001B[43mkwargs\u001B[49m\u001B[43m)\u001B[49m\n",
      "\u001B[36mFile \u001B[39m\u001B[32m/Library/Frameworks/Python.framework/Versions/3.13/lib/python3.13/site-packages/requests_cache/session.py:183\u001B[39m, in \u001B[36mCacheMixin.request\u001B[39m\u001B[34m(self, method, url, headers, expire_after, only_if_cached, refresh, force_refresh, *args, **kwargs)\u001B[39m\n\u001B[32m    181\u001B[39m headers = set_request_headers(headers, expire_after, only_if_cached, refresh, force_refresh)\n\u001B[32m    182\u001B[39m \u001B[38;5;28;01mwith\u001B[39;00m patch_form_boundary() \u001B[38;5;28;01mif\u001B[39;00m kwargs.get(\u001B[33m'\u001B[39m\u001B[33mfiles\u001B[39m\u001B[33m'\u001B[39m) \u001B[38;5;28;01melse\u001B[39;00m nullcontext():\n\u001B[32m--> \u001B[39m\u001B[32m183\u001B[39m     \u001B[38;5;28;01mreturn\u001B[39;00m \u001B[38;5;28;43msuper\u001B[39;49m\u001B[43m(\u001B[49m\u001B[43m)\u001B[49m\u001B[43m.\u001B[49m\u001B[43mrequest\u001B[49m\u001B[43m(\u001B[49m\u001B[43mmethod\u001B[49m\u001B[43m,\u001B[49m\u001B[43m \u001B[49m\u001B[43murl\u001B[49m\u001B[43m,\u001B[49m\u001B[43m \u001B[49m\u001B[43m*\u001B[49m\u001B[43margs\u001B[49m\u001B[43m,\u001B[49m\u001B[43m \u001B[49m\u001B[43mheaders\u001B[49m\u001B[43m=\u001B[49m\u001B[43mheaders\u001B[49m\u001B[43m,\u001B[49m\u001B[43m \u001B[49m\u001B[43m*\u001B[49m\u001B[43m*\u001B[49m\u001B[43mkwargs\u001B[49m\u001B[43m)\u001B[49m\n",
      "\u001B[36mFile \u001B[39m\u001B[32m/Library/Frameworks/Python.framework/Versions/3.13/lib/python3.13/site-packages/requests/sessions.py:589\u001B[39m, in \u001B[36mSession.request\u001B[39m\u001B[34m(self, method, url, params, data, headers, cookies, files, auth, timeout, allow_redirects, proxies, hooks, stream, verify, cert, json)\u001B[39m\n\u001B[32m    584\u001B[39m send_kwargs = {\n\u001B[32m    585\u001B[39m     \u001B[33m\"\u001B[39m\u001B[33mtimeout\u001B[39m\u001B[33m\"\u001B[39m: timeout,\n\u001B[32m    586\u001B[39m     \u001B[33m\"\u001B[39m\u001B[33mallow_redirects\u001B[39m\u001B[33m\"\u001B[39m: allow_redirects,\n\u001B[32m    587\u001B[39m }\n\u001B[32m    588\u001B[39m send_kwargs.update(settings)\n\u001B[32m--> \u001B[39m\u001B[32m589\u001B[39m resp = \u001B[38;5;28;43mself\u001B[39;49m\u001B[43m.\u001B[49m\u001B[43msend\u001B[49m\u001B[43m(\u001B[49m\u001B[43mprep\u001B[49m\u001B[43m,\u001B[49m\u001B[43m \u001B[49m\u001B[43m*\u001B[49m\u001B[43m*\u001B[49m\u001B[43msend_kwargs\u001B[49m\u001B[43m)\u001B[49m\n\u001B[32m    591\u001B[39m \u001B[38;5;28;01mreturn\u001B[39;00m resp\n",
      "\u001B[36mFile \u001B[39m\u001B[32m/Library/Frameworks/Python.framework/Versions/3.13/lib/python3.13/site-packages/requests_cache/session.py:230\u001B[39m, in \u001B[36mCacheMixin.send\u001B[39m\u001B[34m(self, request, expire_after, only_if_cached, refresh, force_refresh, **kwargs)\u001B[39m\n\u001B[32m    228\u001B[39m     response = \u001B[38;5;28mself\u001B[39m._resend(request, actions, cached_response, **kwargs)  \u001B[38;5;66;03m# type: ignore\u001B[39;00m\n\u001B[32m    229\u001B[39m \u001B[38;5;28;01melif\u001B[39;00m actions.send_request:\n\u001B[32m--> \u001B[39m\u001B[32m230\u001B[39m     response = \u001B[38;5;28;43mself\u001B[39;49m\u001B[43m.\u001B[49m\u001B[43m_send_and_cache\u001B[49m\u001B[43m(\u001B[49m\u001B[43mrequest\u001B[49m\u001B[43m,\u001B[49m\u001B[43m \u001B[49m\u001B[43mactions\u001B[49m\u001B[43m,\u001B[49m\u001B[43m \u001B[49m\u001B[43mcached_response\u001B[49m\u001B[43m,\u001B[49m\u001B[43m \u001B[49m\u001B[43m*\u001B[49m\u001B[43m*\u001B[49m\u001B[43mkwargs\u001B[49m\u001B[43m)\u001B[49m\n\u001B[32m    231\u001B[39m \u001B[38;5;28;01melse\u001B[39;00m:\n\u001B[32m    232\u001B[39m     response = cached_response  \u001B[38;5;66;03m# type: ignore  # Guaranteed to be non-None by this point\u001B[39;00m\n",
      "\u001B[36mFile \u001B[39m\u001B[32m/Library/Frameworks/Python.framework/Versions/3.13/lib/python3.13/site-packages/requests_cache/session.py:254\u001B[39m, in \u001B[36mCacheMixin._send_and_cache\u001B[39m\u001B[34m(self, request, actions, cached_response, **kwargs)\u001B[39m\n\u001B[32m    250\u001B[39m \u001B[38;5;250m\u001B[39m\u001B[33;03m\"\"\"Send a request and cache the response, unless disabled by settings or headers.\u001B[39;00m\n\u001B[32m    251\u001B[39m \u001B[33;03mIf applicable, also handle conditional requests.\u001B[39;00m\n\u001B[32m    252\u001B[39m \u001B[33;03m\"\"\"\u001B[39;00m\n\u001B[32m    253\u001B[39m request = actions.update_request(request)\n\u001B[32m--> \u001B[39m\u001B[32m254\u001B[39m response = \u001B[38;5;28;43msuper\u001B[39;49m\u001B[43m(\u001B[49m\u001B[43m)\u001B[49m\u001B[43m.\u001B[49m\u001B[43msend\u001B[49m\u001B[43m(\u001B[49m\u001B[43mrequest\u001B[49m\u001B[43m,\u001B[49m\u001B[43m \u001B[49m\u001B[43m*\u001B[49m\u001B[43m*\u001B[49m\u001B[43mkwargs\u001B[49m\u001B[43m)\u001B[49m\n\u001B[32m    255\u001B[39m actions.update_from_response(response)\n\u001B[32m    257\u001B[39m \u001B[38;5;28;01mif\u001B[39;00m \u001B[38;5;129;01mnot\u001B[39;00m actions.skip_write:\n",
      "\u001B[36mFile \u001B[39m\u001B[32m/Library/Frameworks/Python.framework/Versions/3.13/lib/python3.13/site-packages/requests/sessions.py:746\u001B[39m, in \u001B[36mSession.send\u001B[39m\u001B[34m(self, request, **kwargs)\u001B[39m\n\u001B[32m    743\u001B[39m         \u001B[38;5;28;01mpass\u001B[39;00m\n\u001B[32m    745\u001B[39m \u001B[38;5;28;01mif\u001B[39;00m \u001B[38;5;129;01mnot\u001B[39;00m stream:\n\u001B[32m--> \u001B[39m\u001B[32m746\u001B[39m     \u001B[43mr\u001B[49m\u001B[43m.\u001B[49m\u001B[43mcontent\u001B[49m\n\u001B[32m    748\u001B[39m \u001B[38;5;28;01mreturn\u001B[39;00m r\n",
      "\u001B[36mFile \u001B[39m\u001B[32m/Library/Frameworks/Python.framework/Versions/3.13/lib/python3.13/site-packages/requests/models.py:902\u001B[39m, in \u001B[36mResponse.content\u001B[39m\u001B[34m(self)\u001B[39m\n\u001B[32m    900\u001B[39m         \u001B[38;5;28mself\u001B[39m._content = \u001B[38;5;28;01mNone\u001B[39;00m\n\u001B[32m    901\u001B[39m     \u001B[38;5;28;01melse\u001B[39;00m:\n\u001B[32m--> \u001B[39m\u001B[32m902\u001B[39m         \u001B[38;5;28mself\u001B[39m._content = \u001B[33;43mb\u001B[39;49m\u001B[33;43m\"\u001B[39;49m\u001B[33;43m\"\u001B[39;49m\u001B[43m.\u001B[49m\u001B[43mjoin\u001B[49m\u001B[43m(\u001B[49m\u001B[38;5;28;43mself\u001B[39;49m\u001B[43m.\u001B[49m\u001B[43miter_content\u001B[49m\u001B[43m(\u001B[49m\u001B[43mCONTENT_CHUNK_SIZE\u001B[49m\u001B[43m)\u001B[49m\u001B[43m)\u001B[49m \u001B[38;5;129;01mor\u001B[39;00m \u001B[33mb\u001B[39m\u001B[33m\"\u001B[39m\u001B[33m\"\u001B[39m\n\u001B[32m    904\u001B[39m \u001B[38;5;28mself\u001B[39m._content_consumed = \u001B[38;5;28;01mTrue\u001B[39;00m\n\u001B[32m    905\u001B[39m \u001B[38;5;66;03m# don't need to release the connection; that's been handled by urllib3\u001B[39;00m\n\u001B[32m    906\u001B[39m \u001B[38;5;66;03m# since we exhausted the data.\u001B[39;00m\n",
      "\u001B[36mFile \u001B[39m\u001B[32m/Library/Frameworks/Python.framework/Versions/3.13/lib/python3.13/site-packages/requests/models.py:820\u001B[39m, in \u001B[36mResponse.iter_content.<locals>.generate\u001B[39m\u001B[34m()\u001B[39m\n\u001B[32m    818\u001B[39m \u001B[38;5;28;01mif\u001B[39;00m \u001B[38;5;28mhasattr\u001B[39m(\u001B[38;5;28mself\u001B[39m.raw, \u001B[33m\"\u001B[39m\u001B[33mstream\u001B[39m\u001B[33m\"\u001B[39m):\n\u001B[32m    819\u001B[39m     \u001B[38;5;28;01mtry\u001B[39;00m:\n\u001B[32m--> \u001B[39m\u001B[32m820\u001B[39m         \u001B[38;5;28;01myield from\u001B[39;00m \u001B[38;5;28mself\u001B[39m.raw.stream(chunk_size, decode_content=\u001B[38;5;28;01mTrue\u001B[39;00m)\n\u001B[32m    821\u001B[39m     \u001B[38;5;28;01mexcept\u001B[39;00m ProtocolError \u001B[38;5;28;01mas\u001B[39;00m e:\n\u001B[32m    822\u001B[39m         \u001B[38;5;28;01mraise\u001B[39;00m ChunkedEncodingError(e)\n",
      "\u001B[36mFile \u001B[39m\u001B[32m/Library/Frameworks/Python.framework/Versions/3.13/lib/python3.13/site-packages/urllib3/response.py:951\u001B[39m, in \u001B[36mHTTPResponse.stream\u001B[39m\u001B[34m(self, amt, decode_content)\u001B[39m\n\u001B[32m    949\u001B[39m     \u001B[38;5;28;01mreturn\u001B[39;00m\n\u001B[32m    950\u001B[39m \u001B[38;5;28;01mwhile\u001B[39;00m \u001B[38;5;129;01mnot\u001B[39;00m is_fp_closed(\u001B[38;5;28mself\u001B[39m._fp) \u001B[38;5;129;01mor\u001B[39;00m \u001B[38;5;28mlen\u001B[39m(\u001B[38;5;28mself\u001B[39m._decoded_buffer) > \u001B[32m0\u001B[39m:\n\u001B[32m--> \u001B[39m\u001B[32m951\u001B[39m     data = \u001B[38;5;28;43mself\u001B[39;49m\u001B[43m.\u001B[49m\u001B[43mread\u001B[49m\u001B[43m(\u001B[49m\u001B[43mamt\u001B[49m\u001B[43m=\u001B[49m\u001B[43mamt\u001B[49m\u001B[43m,\u001B[49m\u001B[43m \u001B[49m\u001B[43mdecode_content\u001B[49m\u001B[43m=\u001B[49m\u001B[43mdecode_content\u001B[49m\u001B[43m)\u001B[49m\n\u001B[32m    953\u001B[39m     \u001B[38;5;28;01mif\u001B[39;00m data:\n\u001B[32m    954\u001B[39m         \u001B[38;5;28;01myield\u001B[39;00m data\n",
      "\u001B[36mFile \u001B[39m\u001B[32m/Library/Frameworks/Python.framework/Versions/3.13/lib/python3.13/site-packages/urllib3/response.py:866\u001B[39m, in \u001B[36mHTTPResponse.read\u001B[39m\u001B[34m(self, amt, decode_content, cache_content)\u001B[39m\n\u001B[32m    864\u001B[39m \u001B[38;5;28;01mif\u001B[39;00m \u001B[38;5;28mself\u001B[39m._police_officer \u001B[38;5;129;01mis\u001B[39;00m \u001B[38;5;129;01mnot\u001B[39;00m \u001B[38;5;28;01mNone\u001B[39;00m:\n\u001B[32m    865\u001B[39m     \u001B[38;5;28;01mwith\u001B[39;00m \u001B[38;5;28mself\u001B[39m._police_officer.borrow(\u001B[38;5;28mself\u001B[39m):\n\u001B[32m--> \u001B[39m\u001B[32m866\u001B[39m         data = \u001B[38;5;28;43mself\u001B[39;49m\u001B[43m.\u001B[49m\u001B[43m_raw_read\u001B[49m\u001B[43m(\u001B[49m\u001B[43mamt\u001B[49m\u001B[43m)\u001B[49m\n\u001B[32m    867\u001B[39m \u001B[38;5;28;01melse\u001B[39;00m:\n\u001B[32m    868\u001B[39m     data = \u001B[38;5;28mself\u001B[39m._raw_read(amt)\n",
      "\u001B[36mFile \u001B[39m\u001B[32m/Library/Frameworks/Python.framework/Versions/3.13/lib/python3.13/site-packages/urllib3/response.py:753\u001B[39m, in \u001B[36mHTTPResponse._raw_read\u001B[39m\u001B[34m(self, amt)\u001B[39m\n\u001B[32m    750\u001B[39m fp_closed = \u001B[38;5;28mgetattr\u001B[39m(\u001B[38;5;28mself\u001B[39m._fp, \u001B[33m\"\u001B[39m\u001B[33mclosed\u001B[39m\u001B[33m\"\u001B[39m, \u001B[38;5;28;01mFalse\u001B[39;00m)\n\u001B[32m    752\u001B[39m \u001B[38;5;28;01mwith\u001B[39;00m \u001B[38;5;28mself\u001B[39m._error_catcher():\n\u001B[32m--> \u001B[39m\u001B[32m753\u001B[39m     data = \u001B[38;5;28;43mself\u001B[39;49m\u001B[43m.\u001B[49m\u001B[43m_fp_read\u001B[49m\u001B[43m(\u001B[49m\u001B[43mamt\u001B[49m\u001B[43m)\u001B[49m \u001B[38;5;28;01mif\u001B[39;00m \u001B[38;5;129;01mnot\u001B[39;00m fp_closed \u001B[38;5;28;01melse\u001B[39;00m \u001B[33mb\u001B[39m\u001B[33m\"\u001B[39m\u001B[33m\"\u001B[39m\n\u001B[32m    755\u001B[39m     \u001B[38;5;66;03m# Mocking library often use io.BytesIO\u001B[39;00m\n\u001B[32m    756\u001B[39m     \u001B[38;5;66;03m# which does not auto-close when reading data\u001B[39;00m\n\u001B[32m    757\u001B[39m     \u001B[38;5;66;03m# with amt=None.\u001B[39;00m\n\u001B[32m    758\u001B[39m     is_foreign_fp_unclosed = (\n\u001B[32m    759\u001B[39m         amt \u001B[38;5;129;01mis\u001B[39;00m \u001B[38;5;28;01mNone\u001B[39;00m \u001B[38;5;129;01mand\u001B[39;00m \u001B[38;5;28mgetattr\u001B[39m(\u001B[38;5;28mself\u001B[39m._fp, \u001B[33m\"\u001B[39m\u001B[33mclosed\u001B[39m\u001B[33m\"\u001B[39m, \u001B[38;5;28;01mFalse\u001B[39;00m) \u001B[38;5;129;01mis\u001B[39;00m \u001B[38;5;28;01mFalse\u001B[39;00m\n\u001B[32m    760\u001B[39m     )\n",
      "\u001B[36mFile \u001B[39m\u001B[32m/Library/Frameworks/Python.framework/Versions/3.13/lib/python3.13/site-packages/urllib3/response.py:738\u001B[39m, in \u001B[36mHTTPResponse._fp_read\u001B[39m\u001B[34m(self, amt)\u001B[39m\n\u001B[32m    735\u001B[39m     \u001B[38;5;28;01mreturn\u001B[39;00m buffer.getvalue()\n\u001B[32m    736\u001B[39m \u001B[38;5;28;01melse\u001B[39;00m:\n\u001B[32m    737\u001B[39m     \u001B[38;5;66;03m# StringIO doesn't like amt=None\u001B[39;00m\n\u001B[32m--> \u001B[39m\u001B[32m738\u001B[39m     \u001B[38;5;28;01mreturn\u001B[39;00m \u001B[38;5;28;43mself\u001B[39;49m\u001B[43m.\u001B[49m\u001B[43m_fp\u001B[49m\u001B[43m.\u001B[49m\u001B[43mread\u001B[49m\u001B[43m(\u001B[49m\u001B[43mamt\u001B[49m\u001B[43m)\u001B[49m \u001B[38;5;28;01mif\u001B[39;00m amt \u001B[38;5;129;01mis\u001B[39;00m \u001B[38;5;129;01mnot\u001B[39;00m \u001B[38;5;28;01mNone\u001B[39;00m \u001B[38;5;28;01melse\u001B[39;00m \u001B[38;5;28mself\u001B[39m._fp.read()\n",
      "\u001B[36mFile \u001B[39m\u001B[32m/Library/Frameworks/Python.framework/Versions/3.13/lib/python3.13/site-packages/urllib3/backend/_base.py:342\u001B[39m, in \u001B[36mLowLevelResponse.read\u001B[39m\u001B[34m(self, _LowLevelResponse__size)\u001B[39m\n\u001B[32m    337\u001B[39m data_ready_to_go = (\n\u001B[32m    338\u001B[39m     __size \u001B[38;5;129;01mis\u001B[39;00m \u001B[38;5;129;01mnot\u001B[39;00m \u001B[38;5;28;01mNone\u001B[39;00m \u001B[38;5;129;01mand\u001B[39;00m buf_capacity > \u001B[32m0\u001B[39m \u001B[38;5;129;01mand\u001B[39;00m buf_capacity >= __size\n\u001B[32m    339\u001B[39m )\n\u001B[32m    341\u001B[39m \u001B[38;5;28;01mif\u001B[39;00m \u001B[38;5;28mself\u001B[39m._eot \u001B[38;5;129;01mis\u001B[39;00m \u001B[38;5;28;01mFalse\u001B[39;00m \u001B[38;5;129;01mand\u001B[39;00m \u001B[38;5;129;01mnot\u001B[39;00m data_ready_to_go:\n\u001B[32m--> \u001B[39m\u001B[32m342\u001B[39m     data, \u001B[38;5;28mself\u001B[39m._eot, \u001B[38;5;28mself\u001B[39m.trailers = \u001B[38;5;28;43mself\u001B[39;49m\u001B[43m.\u001B[49m\u001B[43m__internal_read_st\u001B[49m\u001B[43m(\u001B[49m\n\u001B[32m    343\u001B[39m \u001B[43m        \u001B[49m\u001B[43m__size\u001B[49m\u001B[43m,\u001B[49m\u001B[43m \u001B[49m\u001B[38;5;28;43mself\u001B[39;49m\u001B[43m.\u001B[49m\u001B[43m_stream_id\u001B[49m\n\u001B[32m    344\u001B[39m \u001B[43m    \u001B[49m\u001B[43m)\u001B[49m\n\u001B[32m    346\u001B[39m     \u001B[38;5;28mself\u001B[39m.__buffer_excess.put(data)\n\u001B[32m    347\u001B[39m     buf_capacity = \u001B[38;5;28mlen\u001B[39m(\u001B[38;5;28mself\u001B[39m.__buffer_excess)\n",
      "\u001B[36mFile \u001B[39m\u001B[32m/Library/Frameworks/Python.framework/Versions/3.13/lib/python3.13/site-packages/urllib3/backend/hface.py:1391\u001B[39m, in \u001B[36mHfaceBackend.__read_st\u001B[39m\u001B[34m(self, _HfaceBackend__amt, _HfaceBackend__stream_id, _HfaceBackend__respect_end_signal, _HfaceBackend__dummy_operation)\u001B[39m\n\u001B[32m   1387\u001B[39m     \u001B[38;5;28;01mreturn\u001B[39;00m \u001B[33mb\u001B[39m\u001B[33m\"\u001B[39m\u001B[33m\"\u001B[39m, \u001B[38;5;28;01mTrue\u001B[39;00m, \u001B[38;5;28;01mNone\u001B[39;00m\n\u001B[32m   1389\u001B[39m eot = \u001B[38;5;28;01mFalse\u001B[39;00m\n\u001B[32m-> \u001B[39m\u001B[32m1391\u001B[39m events: \u001B[38;5;28mlist\u001B[39m[DataReceived | HeadersReceived] = \u001B[38;5;28;43mself\u001B[39;49m\u001B[43m.\u001B[49m\u001B[43m__exchange_until\u001B[49m\u001B[43m(\u001B[49m\u001B[43m  \u001B[49m\u001B[38;5;66;43;03m# type: ignore[assignment]\u001B[39;49;00m\n\u001B[32m   1392\u001B[39m \u001B[43m    \u001B[49m\u001B[43mDataReceived\u001B[49m\u001B[43m,\u001B[49m\n\u001B[32m   1393\u001B[39m \u001B[43m    \u001B[49m\u001B[43mreceive_first\u001B[49m\u001B[43m=\u001B[49m\u001B[38;5;28;43;01mTrue\u001B[39;49;00m\u001B[43m,\u001B[49m\n\u001B[32m   1394\u001B[39m \u001B[43m    \u001B[49m\u001B[43mevent_type_collectable\u001B[49m\u001B[43m=\u001B[49m\u001B[43m(\u001B[49m\u001B[43mDataReceived\u001B[49m\u001B[43m,\u001B[49m\u001B[43m \u001B[49m\u001B[43mHeadersReceived\u001B[49m\u001B[43m)\u001B[49m\u001B[43m,\u001B[49m\n\u001B[32m   1395\u001B[39m \u001B[43m    \u001B[49m\u001B[43mmaximal_data_in_read\u001B[49m\u001B[43m=\u001B[49m\u001B[43m__amt\u001B[49m\u001B[43m,\u001B[49m\n\u001B[32m   1396\u001B[39m \u001B[43m    \u001B[49m\u001B[43mdata_in_len_from\u001B[49m\u001B[43m=\u001B[49m\u001B[38;5;28;43;01mlambda\u001B[39;49;00m\u001B[43m \u001B[49m\u001B[43mx\u001B[49m\u001B[43m:\u001B[49m\u001B[43m \u001B[49m\u001B[38;5;28;43mlen\u001B[39;49m\u001B[43m(\u001B[49m\u001B[43mx\u001B[49m\u001B[43m.\u001B[49m\u001B[43mdata\u001B[49m\u001B[43m)\u001B[49m\u001B[43m,\u001B[49m\u001B[43m  \u001B[49m\u001B[38;5;66;43;03m# type: ignore[attr-defined]\u001B[39;49;00m\n\u001B[32m   1397\u001B[39m \u001B[43m    \u001B[49m\u001B[43mstream_id\u001B[49m\u001B[43m=\u001B[49m\u001B[43m__stream_id\u001B[49m\u001B[43m,\u001B[49m\n\u001B[32m   1398\u001B[39m \u001B[43m    \u001B[49m\u001B[43mrespect_end_stream_signal\u001B[49m\u001B[43m=\u001B[49m\u001B[43m__respect_end_signal\u001B[49m\u001B[43m,\u001B[49m\n\u001B[32m   1399\u001B[39m \u001B[43m\u001B[49m\u001B[43m)\u001B[49m\n\u001B[32m   1401\u001B[39m \u001B[38;5;28mself\u001B[39m._last_used_at = time.monotonic()\n\u001B[32m   1403\u001B[39m \u001B[38;5;28;01mif\u001B[39;00m events \u001B[38;5;129;01mand\u001B[39;00m events[-\u001B[32m1\u001B[39m].end_stream:\n",
      "\u001B[36mFile \u001B[39m\u001B[32m/Library/Frameworks/Python.framework/Versions/3.13/lib/python3.13/site-packages/urllib3/backend/hface.py:888\u001B[39m, in \u001B[36mHfaceBackend.__exchange_until\u001B[39m\u001B[34m(self, event_type, receive_first, event_type_collectable, respect_end_stream_signal, maximal_data_in_read, data_in_len_from, stream_id)\u001B[39m\n\u001B[32m    885\u001B[39m         \u001B[38;5;28mself\u001B[39m.sock.sendall(data_out)\n\u001B[32m    887\u001B[39m \u001B[38;5;28;01mtry\u001B[39;00m:\n\u001B[32m--> \u001B[39m\u001B[32m888\u001B[39m     data_in = \u001B[38;5;28;43mself\u001B[39;49m\u001B[43m.\u001B[49m\u001B[43msock\u001B[49m\u001B[43m.\u001B[49m\u001B[43mrecv\u001B[49m\u001B[43m(\u001B[49m\u001B[38;5;28;43mself\u001B[39;49m\u001B[43m.\u001B[49m\u001B[43mblocksize\u001B[49m\u001B[43m)\u001B[49m\n\u001B[32m    889\u001B[39m \u001B[38;5;28;01mexcept\u001B[39;00m (\u001B[38;5;167;01mConnectionAbortedError\u001B[39;00m, \u001B[38;5;167;01mConnectionResetError\u001B[39;00m) \u001B[38;5;28;01mas\u001B[39;00m e:\n\u001B[32m    890\u001B[39m     \u001B[38;5;28;01mif\u001B[39;00m \u001B[38;5;28misinstance\u001B[39m(e, \u001B[38;5;167;01mConnectionResetError\u001B[39;00m) \u001B[38;5;129;01mand\u001B[39;00m (\n\u001B[32m    891\u001B[39m         event_type \u001B[38;5;129;01mis\u001B[39;00m HandshakeCompleted\n\u001B[32m    892\u001B[39m         \u001B[38;5;129;01mor\u001B[39;00m (\n\u001B[32m   (...)\u001B[39m\u001B[32m    895\u001B[39m         )\n\u001B[32m    896\u001B[39m     ):\n",
      "\u001B[36mFile \u001B[39m\u001B[32m/Library/Frameworks/Python.framework/Versions/3.13/lib/python3.13/ssl.py:1285\u001B[39m, in \u001B[36mSSLSocket.recv\u001B[39m\u001B[34m(self, buflen, flags)\u001B[39m\n\u001B[32m   1281\u001B[39m     \u001B[38;5;28;01mif\u001B[39;00m flags != \u001B[32m0\u001B[39m:\n\u001B[32m   1282\u001B[39m         \u001B[38;5;28;01mraise\u001B[39;00m \u001B[38;5;167;01mValueError\u001B[39;00m(\n\u001B[32m   1283\u001B[39m             \u001B[33m\"\u001B[39m\u001B[33mnon-zero flags not allowed in calls to recv() on \u001B[39m\u001B[38;5;132;01m%s\u001B[39;00m\u001B[33m\"\u001B[39m %\n\u001B[32m   1284\u001B[39m             \u001B[38;5;28mself\u001B[39m.\u001B[34m__class__\u001B[39m)\n\u001B[32m-> \u001B[39m\u001B[32m1285\u001B[39m     \u001B[38;5;28;01mreturn\u001B[39;00m \u001B[38;5;28;43mself\u001B[39;49m\u001B[43m.\u001B[49m\u001B[43mread\u001B[49m\u001B[43m(\u001B[49m\u001B[43mbuflen\u001B[49m\u001B[43m)\u001B[49m\n\u001B[32m   1286\u001B[39m \u001B[38;5;28;01melse\u001B[39;00m:\n\u001B[32m   1287\u001B[39m     \u001B[38;5;28;01mreturn\u001B[39;00m \u001B[38;5;28msuper\u001B[39m().recv(buflen, flags)\n",
      "\u001B[36mFile \u001B[39m\u001B[32m/Library/Frameworks/Python.framework/Versions/3.13/lib/python3.13/ssl.py:1140\u001B[39m, in \u001B[36mSSLSocket.read\u001B[39m\u001B[34m(self, len, buffer)\u001B[39m\n\u001B[32m   1138\u001B[39m         \u001B[38;5;28;01mreturn\u001B[39;00m \u001B[38;5;28mself\u001B[39m._sslobj.read(\u001B[38;5;28mlen\u001B[39m, buffer)\n\u001B[32m   1139\u001B[39m     \u001B[38;5;28;01melse\u001B[39;00m:\n\u001B[32m-> \u001B[39m\u001B[32m1140\u001B[39m         \u001B[38;5;28;01mreturn\u001B[39;00m \u001B[38;5;28;43mself\u001B[39;49m\u001B[43m.\u001B[49m\u001B[43m_sslobj\u001B[49m\u001B[43m.\u001B[49m\u001B[43mread\u001B[49m\u001B[43m(\u001B[49m\u001B[38;5;28;43mlen\u001B[39;49m\u001B[43m)\u001B[49m\n\u001B[32m   1141\u001B[39m \u001B[38;5;28;01mexcept\u001B[39;00m SSLError \u001B[38;5;28;01mas\u001B[39;00m x:\n\u001B[32m   1142\u001B[39m     \u001B[38;5;28;01mif\u001B[39;00m x.args[\u001B[32m0\u001B[39m] == SSL_ERROR_EOF \u001B[38;5;129;01mand\u001B[39;00m \u001B[38;5;28mself\u001B[39m.suppress_ragged_eofs:\n",
      "\u001B[31mKeyboardInterrupt\u001B[39m: "
     ]
    }
   ],
   "execution_count": 8
  }
 ],
 "metadata": {
  "kernelspec": {
   "display_name": "Python 3",
   "language": "python",
   "name": "python3"
  },
  "language_info": {
   "codemirror_mode": {
    "name": "ipython",
    "version": 2
   },
   "file_extension": ".py",
   "mimetype": "text/x-python",
   "name": "python",
   "nbconvert_exporter": "python",
   "pygments_lexer": "ipython2",
   "version": "2.7.6"
  }
 },
 "nbformat": 4,
 "nbformat_minor": 5
}
