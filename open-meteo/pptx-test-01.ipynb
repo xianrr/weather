{
 "cells": [
  {
   "cell_type": "code",
   "id": "initial_id",
   "metadata": {
    "collapsed": true,
    "ExecuteTime": {
     "end_time": "2025-08-26T00:49:59.944042Z",
     "start_time": "2025-08-26T00:49:59.838403Z"
    }
   },
   "source": [
    "from pptx import Presentation\n",
    "from pptx.util import Inches, Cm\n",
    "\n",
    "# 创建PPT对象\n",
    "prs = Presentation()\n",
    "\n",
    "# 设置宽屏比例 (16:9)\n",
    "prs.slide_width = Inches(13.33)\n",
    "prs.slide_height = Inches(7.5)\n",
    "\n",
    "# 选择空白布局（通常索引6为空白布局）:cite[6]\n",
    "blank_slide_layout = prs.slide_layouts[6]\n",
    "slide = prs.slides.add_slide(blank_slide_layout)\n",
    "\n",
    "# 图片路径\n",
    "img_path = 'diagram_grid/WR_0.jpg'  # 请替换为你的图片路径\n",
    "\n",
    "# 定义图片的位置和大小:cite[4]\n",
    "left = Cm(2.58)   # 距离左侧1.5英寸\n",
    "top = Cm(3.42)      # 距离顶部2英寸\n",
    "height = Cm(14)    # 图片宽度4英寸\n",
    "# height可以不指定，按比例缩放；如需指定则添加height参数\n",
    "\n",
    "# 插入图片\n",
    "slide.shapes.add_picture(img_path, left, top, height=height)\n",
    "\n",
    "\n",
    "# 保存PPT\n",
    "prs.save('output_presentation.pptx')"
   ],
   "outputs": [],
   "execution_count": 3
  },
  {
   "metadata": {},
   "cell_type": "code",
   "outputs": [],
   "execution_count": null,
   "source": "",
   "id": "6b30832f8c85b5fe"
  },
  {
   "metadata": {
    "ExecuteTime": {
     "end_time": "2025-08-26T01:28:24.065324Z",
     "start_time": "2025-08-26T01:28:24.025969Z"
    }
   },
   "cell_type": "code",
   "source": [
    "import pandas as pd\n",
    "\n",
    "df = pd.read_csv('dataset/ID(2).csv', sep = ',')\n",
    "df = df[ (df['city'] == 'Riau, Indonesia')  & ( df['date'] < '2025-08-20 00:00:00+00:00')]\n",
    "\n",
    "df.to_csv('dataset/ID(3).csv', index=False)"
   ],
   "id": "8e2f54ee70f52d04",
   "outputs": [],
   "execution_count": 10
  },
  {
   "metadata": {
    "ExecuteTime": {
     "end_time": "2025-08-26T01:17:15.546933Z",
     "start_time": "2025-08-26T01:17:15.505380Z"
    }
   },
   "cell_type": "code",
   "source": "",
   "id": "37080c36d2d8736f",
   "outputs": [],
   "execution_count": 6
  }
 ],
 "metadata": {
  "kernelspec": {
   "display_name": "Python 3",
   "language": "python",
   "name": "python3"
  },
  "language_info": {
   "codemirror_mode": {
    "name": "ipython",
    "version": 2
   },
   "file_extension": ".py",
   "mimetype": "text/x-python",
   "name": "python",
   "nbconvert_exporter": "python",
   "pygments_lexer": "ipython2",
   "version": "2.7.6"
  }
 },
 "nbformat": 4,
 "nbformat_minor": 5
}
