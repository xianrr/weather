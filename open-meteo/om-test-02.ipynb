{
 "cells": [
  {
   "metadata": {},
   "cell_type": "markdown",
   "source": "# 该文件未完成",
   "id": "89b68c0d9d8e67e1"
  },
  {
   "cell_type": "code",
   "execution_count": null,
   "id": "initial_id",
   "metadata": {
    "collapsed": true
   },
   "outputs": [],
   "source": [
    "import openmeteo_requests\n",
    "import requests_cache\n",
    "from pandas import DataFrame\n",
    "from retry_requests import retry\n",
    "import pandas as pd\n",
    "import matplotlib.pyplot as plt\n",
    "from PIL import Image\n",
    "\n",
    "\n",
    "def request_openmeteo_data(start_date, end_date, latitude, longitude, daily):\n",
    "    # Setup the Open-Meteo API client with cache and retry on error\n",
    "    cache_session = requests_cache.CachedSession('.cache', expire_after = -1)\n",
    "    retry_session = retry(cache_session, retries = 5, backoff_factor = 0.2)\n",
    "    openmeteo = openmeteo_requests.Client(session = retry_session)\n",
    "    # Make sure all required weather variables are listed here\n",
    "    # The order of variables in hourly or daily is important to assign them correctly below\n",
    "    url = \"https://archive-api.open-meteo.com/v1/archive\"\n",
    "    params = {\n",
    "        \"start_date\": start_date,\n",
    "        \"end_date\": end_date,\n",
    "        \"latitude\": latitude,\n",
    "        \"longitude\": longitude,\n",
    "        \"daily\": daily\n",
    "    }\n",
    "    responses = openmeteo.weather_api(url, params=params)\n",
    "    return responses\n",
    "\n",
    "def process_sample_data(responses):\n",
    "    df_all_sample = pd.DataFrame()\n",
    "    for response in responses:\n",
    "        daily = response.Daily()\n",
    "        daily_temperature_2m_mean = daily.Variables(0).ValuesAsNumpy()\n",
    "        daily_precipitation_sum = daily.Variables(1).ValuesAsNumpy()\n",
    "        daily_soil_moisture_28_to_100cm_mean = daily.Variables(2).ValuesAsNumpy()\n",
    "        # 日期\n",
    "        daily_data = {\"date\": pd.date_range(\n",
    "            start = pd.to_datetime(daily.Time(), unit = \"s\", utc = True),\n",
    "            end = pd.to_datetime(daily.TimeEnd(), unit = \"s\", utc = True),\n",
    "            freq = pd.Timedelta(seconds = daily.Interval()),\n",
    "            inclusive = \"left\"\n",
    "        )}\n",
    "        # 指标\n",
    "        daily_data[\"temperature_2m_mean\"] = daily_temperature_2m_mean\n",
    "        daily_data[\"precipitation_sum\"] = daily_precipitation_sum\n",
    "        daily_data[\"soil_moisture_28_to_100cm_mean\"] = daily_soil_moisture_28_to_100cm_mean\n",
    "        # 整合\n",
    "        daily_dataframe = pd.DataFrame(data = daily_data)\n",
    "        df_all_sample = pd.concat([df_all_sample, daily_dataframe], ignore_index=True)\n",
    "    # 样本合并\n",
    "    df_l2 = df_all_sample.groupby('date', as_index=False)[['temperature_2m_mean', 'precipitation_sum', 'soil_moisture_28_to_100cm_mean']].mean()\n",
    "\n",
    "\n",
    "    return df_l2"
   ]
  },
  {
   "metadata": {
    "ExecuteTime": {
     "end_time": "2025-08-07T06:15:17.622092Z",
     "start_time": "2025-08-07T06:15:15.838538Z"
    }
   },
   "cell_type": "code",
   "source": [
    "import openmeteo_requests\n",
    "\n",
    "import pandas as pd\n",
    "import requests_cache\n",
    "from retry_requests import retry\n",
    "\n",
    "# Setup the Open-Meteo API client with cache and retry on error\n",
    "cache_session = requests_cache.CachedSession('.cache', expire_after = -1)\n",
    "retry_session = retry(cache_session, retries = 5, backoff_factor = 0.2)\n",
    "openmeteo = openmeteo_requests.Client(session = retry_session)\n",
    "\n",
    "# Make sure all required weather variables are listed here\n",
    "# The order of variables in hourly or daily is important to assign them correctly below\n",
    "url = \"https://archive-api.open-meteo.com/v1/archive\"\n",
    "params = {\n",
    "    \"latitude\": [0.189201, 1.292902, 1.223743],\n",
    "    \"longitude\": [116.900165, 116.93554, 117.829622],\n",
    "    \"start_date\": \"2025-01-01\",\n",
    "    \"end_date\": \"2025-08-05\",\n",
    "    \"daily\": [\"precipitation_sum\", \"temperature_2m_mean\", \"soil_moisture_7_to_28cm_mean\"],\n",
    "}\n",
    "responses = openmeteo.weather_api(url, params=params)\n",
    "\n",
    "# Process 3 locations\n",
    "for response in responses:\n",
    "    print(f\"\\nCoordinates: {response.Latitude()}°N {response.Longitude()}°E\")\n",
    "    print(f\"Elevation: {response.Elevation()} m asl\")\n",
    "    print(f\"Timezone difference to GMT+0: {response.UtcOffsetSeconds()}s\")\n",
    "\n",
    "    # Process daily data. The order of variables needs to be the same as requested.\n",
    "    daily = response.Daily()\n",
    "    daily_precipitation_sum = daily.Variables(0).ValuesAsNumpy()\n",
    "    daily_temperature_2m_mean = daily.Variables(1).ValuesAsNumpy()\n",
    "    daily_soil_moisture_7_to_28cm_mean = daily.Variables(2).ValuesAsNumpy()\n",
    "\n",
    "    daily_data = {\"date\": pd.date_range(\n",
    "        start = pd.to_datetime(daily.Time(), unit = \"s\", utc = True),\n",
    "        end = pd.to_datetime(daily.TimeEnd(), unit = \"s\", utc = True),\n",
    "        freq = pd.Timedelta(seconds = daily.Interval()),\n",
    "        inclusive = \"left\"\n",
    "    )}\n",
    "\n",
    "    daily_data[\"precipitation_sum\"] = daily_precipitation_sum\n",
    "    daily_data[\"temperature_2m_mean\"] = daily_temperature_2m_mean\n",
    "    daily_data[\"soil_moisture_7_to_28cm_mean\"] = daily_soil_moisture_7_to_28cm_mean\n",
    "\n",
    "    daily_dataframe = pd.DataFrame(data = daily_data)\n",
    "    # print(\"\\nDaily data\\n\", daily_dataframe)"
   ],
   "id": "f065f2ff79689b88",
   "outputs": [
    {
     "name": "stdout",
     "output_type": "stream",
     "text": [
      "\n",
      "Coordinates: 0.17574691772460938°N 116.8876724243164°E\n",
      "Elevation: 13.0 m asl\n",
      "Timezone difference to GMT+0: 0s\n",
      "\n",
      "Coordinates: 1.3005272150039673°N 116.94313049316406°E\n",
      "Elevation: 88.0 m asl\n",
      "Timezone difference to GMT+0: 0s\n",
      "\n",
      "Coordinates: 1.2302284240722656°N 117.7742691040039°E\n",
      "Elevation: 7.0 m asl\n",
      "Timezone difference to GMT+0: 0s\n"
     ]
    }
   ],
   "execution_count": 3
  },
  {
   "metadata": {},
   "cell_type": "markdown",
   "source": "## open-meteo-api 通用方法",
   "id": "fa9abdebd3abf527"
  },
  {
   "metadata": {
    "ExecuteTime": {
     "end_time": "2025-08-07T07:36:28.451852Z",
     "start_time": "2025-08-07T07:36:28.447390Z"
    }
   },
   "cell_type": "code",
   "source": [
    "def request_openmeteo_api(latitude:list[str],\n",
    "                          longitude:list[str],\n",
    "                          start_date:str,\n",
    "                          end_date:str,\n",
    "                          daily:list[str]):\n",
    "    '''\n",
    "    The len(latitude) and len(longitude) entered must be equal.\n",
    "\n",
    "    :param latitude:    [float, ...]\n",
    "    :param longitude:   [float, ...]\n",
    "    :param start_date:  \"YYYY-MM-DD\"\n",
    "    :param end_date:    \"YYYY-MM-DD\"\n",
    "    :param daily:       [String, ...]\n",
    "    :return:\n",
    "    '''\n",
    "    # Setup the Open-Meteo API client with cache and retry on error\n",
    "    cache_session = requests_cache.CachedSession('.cache', expire_after = -1)\n",
    "    retry_session = retry(cache_session, retries = 5, backoff_factor = 0.2)\n",
    "    openmeteo = openmeteo_requests.Client(session = retry_session)\n",
    "\n",
    "    url = \"https://archive-api.open-meteo.com/v1/archive\"\n",
    "    params = {\n",
    "        \"latitude\": latitude,\n",
    "        \"longitude\": longitude,\n",
    "        \"start_date\": start_date,\n",
    "        \"end_date\": end_date,\n",
    "        \"daily\": daily\n",
    "    }\n",
    "    responses = openmeteo.weather_api(url, params=params)\n",
    "\n",
    "\n",
    "print(request_openmeteo_api.__doc__)\n",
    "\n",
    "\n"
   ],
   "id": "34ed16c9d8ed69a5",
   "outputs": [
    {
     "name": "stdout",
     "output_type": "stream",
     "text": [
      "\n",
      "len(latitude) = len(latitude)\n",
      ":param latitude:    [float, ...]\n",
      ":param longitude:   [float, ...]\n",
      ":param start_date:  \"YYYY-MM-DD\"\n",
      ":param end_date:    \"YYYY-MM-DD\"\n",
      ":param daily:       [String, ...]\n",
      ":return:\n",
      "\n"
     ]
    }
   ],
   "execution_count": 12
  }
 ],
 "metadata": {
  "kernelspec": {
   "display_name": "Python 3",
   "language": "python",
   "name": "python3"
  },
  "language_info": {
   "codemirror_mode": {
    "name": "ipython",
    "version": 2
   },
   "file_extension": ".py",
   "mimetype": "text/x-python",
   "name": "python",
   "nbconvert_exporter": "python",
   "pygments_lexer": "ipython2",
   "version": "2.7.6"
  }
 },
 "nbformat": 4,
 "nbformat_minor": 5
}
